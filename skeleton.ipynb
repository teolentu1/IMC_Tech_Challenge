{
 "cells": [
  {
   "cell_type": "code",
   "execution_count": 1,
   "id": "00cd3a57-4064-400a-b906-a26cb4d58543",
   "metadata": {
    "tags": []
   },
   "outputs": [],
   "source": [
    "import os\n",
    "import pandas as pd\n",
    "import requests"
   ]
  },
  {
   "cell_type": "code",
   "execution_count": 6,
   "id": "72ed0843-7d56-40c1-8cdd-32a67f484f16",
   "metadata": {
    "tags": []
   },
   "outputs": [],
   "source": [
    "DATA_DIR = \"data\"\n",
    "SUBMISSIONS_DIR = \"submissions\""
   ]
  },
  {
   "cell_type": "code",
   "execution_count": 30,
   "id": "8baef4a9-f2c7-4cfe-a84a-426b8aff9c2c",
   "metadata": {
    "tags": []
   },
   "outputs": [],
   "source": [
    "assert os.path.isdir(DATA_DIR)\n",
    "assert os.path.isdir(SUBMISSIONS_DIR)"
   ]
  },
  {
   "cell_type": "markdown",
   "id": "72b2107b-c855-4be8-ae1a-1ad98fdc43be",
   "metadata": {},
   "source": [
    "# 1. Loading the input data set"
   ]
  },
  {
   "cell_type": "code",
   "execution_count": 8,
   "id": "4b1c0d41-4539-4744-9f79-d1c12992f678",
   "metadata": {
    "tags": []
   },
   "outputs": [],
   "source": [
    "DATA_SET_NAME = \"dataset.tsv\""
   ]
  },
  {
   "cell_type": "code",
   "execution_count": 59,
   "id": "8e1c89ab-7733-47b9-a0cf-f5beafde0015",
   "metadata": {
    "tags": []
   },
   "outputs": [
    {
     "data": {
      "text/html": [
       "<div>\n",
       "<style scoped>\n",
       "    .dataframe tbody tr th:only-of-type {\n",
       "        vertical-align: middle;\n",
       "    }\n",
       "\n",
       "    .dataframe tbody tr th {\n",
       "        vertical-align: top;\n",
       "    }\n",
       "\n",
       "    .dataframe thead th {\n",
       "        text-align: right;\n",
       "    }\n",
       "</style>\n",
       "<table border=\"1\" class=\"dataframe\">\n",
       "  <thead>\n",
       "    <tr style=\"text-align: right;\">\n",
       "      <th></th>\n",
       "      <th>city1</th>\n",
       "      <th>city2</th>\n",
       "      <th>latency</th>\n",
       "      <th>cost</th>\n",
       "      <th>messages</th>\n",
       "    </tr>\n",
       "  </thead>\n",
       "  <tbody>\n",
       "    <tr>\n",
       "      <th>0</th>\n",
       "      <td>Ankara</td>\n",
       "      <td>Moscow</td>\n",
       "      <td>641</td>\n",
       "      <td>271372</td>\n",
       "      <td>135</td>\n",
       "    </tr>\n",
       "    <tr>\n",
       "      <th>1</th>\n",
       "      <td>Atlanta</td>\n",
       "      <td>PanamaCity</td>\n",
       "      <td>1724</td>\n",
       "      <td>1520655</td>\n",
       "      <td>0</td>\n",
       "    </tr>\n",
       "    <tr>\n",
       "      <th>2</th>\n",
       "      <td>Saskatoon</td>\n",
       "      <td>Yellowknife</td>\n",
       "      <td>831</td>\n",
       "      <td>1099498</td>\n",
       "      <td>102</td>\n",
       "    </tr>\n",
       "    <tr>\n",
       "      <th>3</th>\n",
       "      <td>Gaborone</td>\n",
       "      <td>Luanda</td>\n",
       "      <td>1437</td>\n",
       "      <td>248701</td>\n",
       "      <td>0</td>\n",
       "    </tr>\n",
       "    <tr>\n",
       "      <th>4</th>\n",
       "      <td>Chicago</td>\n",
       "      <td>SaltLakeCity</td>\n",
       "      <td>833</td>\n",
       "      <td>1856242</td>\n",
       "      <td>0</td>\n",
       "    </tr>\n",
       "    <tr>\n",
       "      <th>...</th>\n",
       "      <td>...</td>\n",
       "      <td>...</td>\n",
       "      <td>...</td>\n",
       "      <td>...</td>\n",
       "      <td>...</td>\n",
       "    </tr>\n",
       "    <tr>\n",
       "      <th>1995</th>\n",
       "      <td>Amsterdam</td>\n",
       "      <td>Chicago</td>\n",
       "      <td>0</td>\n",
       "      <td>0</td>\n",
       "      <td>7791</td>\n",
       "    </tr>\n",
       "    <tr>\n",
       "      <th>1996</th>\n",
       "      <td>Amsterdam</td>\n",
       "      <td>Sydney</td>\n",
       "      <td>0</td>\n",
       "      <td>0</td>\n",
       "      <td>11389</td>\n",
       "    </tr>\n",
       "    <tr>\n",
       "      <th>1997</th>\n",
       "      <td>Amsterdam</td>\n",
       "      <td>Mumbai</td>\n",
       "      <td>0</td>\n",
       "      <td>0</td>\n",
       "      <td>1104</td>\n",
       "    </tr>\n",
       "    <tr>\n",
       "      <th>1998</th>\n",
       "      <td>Chicago</td>\n",
       "      <td>Mumbai</td>\n",
       "      <td>0</td>\n",
       "      <td>0</td>\n",
       "      <td>14566</td>\n",
       "    </tr>\n",
       "    <tr>\n",
       "      <th>1999</th>\n",
       "      <td>Chicago</td>\n",
       "      <td>Sydney</td>\n",
       "      <td>0</td>\n",
       "      <td>0</td>\n",
       "      <td>9077</td>\n",
       "    </tr>\n",
       "  </tbody>\n",
       "</table>\n",
       "<p>2000 rows × 5 columns</p>\n",
       "</div>"
      ],
      "text/plain": [
       "          city1         city2  latency     cost  messages\n",
       "0        Ankara        Moscow      641   271372       135\n",
       "1       Atlanta    PanamaCity     1724  1520655         0\n",
       "2     Saskatoon   Yellowknife      831  1099498       102\n",
       "3      Gaborone        Luanda     1437   248701         0\n",
       "4       Chicago  SaltLakeCity      833  1856242         0\n",
       "...         ...           ...      ...      ...       ...\n",
       "1995  Amsterdam       Chicago        0        0      7791\n",
       "1996  Amsterdam        Sydney        0        0     11389\n",
       "1997  Amsterdam        Mumbai        0        0      1104\n",
       "1998    Chicago        Mumbai        0        0     14566\n",
       "1999    Chicago        Sydney        0        0      9077\n",
       "\n",
       "[2000 rows x 5 columns]"
      ]
     },
     "execution_count": 59,
     "metadata": {},
     "output_type": "execute_result"
    }
   ],
   "source": [
    "data_set = pd.read_csv(f\"{DATA_DIR}/{DATA_SET_NAME}\", delimiter=\"\\t\", names=[\"city1\", \"city2\", \"latency\", \"cost\", \"messages\"])\n",
    "data_set.head(-1)"
   ]
  },
  {
   "cell_type": "markdown",
   "id": "3f8287a5-ede5-43b5-b770-fe229c0ac815",
   "metadata": {},
   "source": [
    "# 2. Scoring Function\n",
    "\n",
    "This scoring function is ready to use and grades your submission, it returns the same score as what the Latency Challenge website would return. **Note:**, this doesn't actually submit your solution! You can use this as a utility but as long as you don't upload a solution this will not put you on the leaderboard."
   ]
  },
  {
   "cell_type": "code",
   "execution_count": 65,
   "id": "94c1a4fb-81e3-4763-92b9-31dbfefca1c4",
   "metadata": {
    "tags": []
   },
   "outputs": [],
   "source": [
    "def score_submission(submission: set[tuple[str, str]]) -> (float, str):\n",
    "    \"\"\"\n",
    "    This is the scoring function you can use to determine how well your solution is doing\n",
    "    \"\"\"\n",
    "\n",
    "    cities = set(data_set[\"city1\"]) | set(data_set[\"city2\"])\n",
    "    edges_available = set(\n",
    "        tuple(sorted(x))\n",
    "        for _, x in data_set[data_set[\"latency\"] > 0][[\"city1\", \"city2\"]].iterrows()\n",
    "    )\n",
    "    edges_available = set((x, y) if x < y else (y, x) for (x, y) in edges_available)\n",
    "\n",
    "    city_to_index = {city: i for i, city in enumerate(cities)}\n",
    "    max_latency = 10_000\n",
    "    distances = [[10 * max_latency] * len(cities) for _ in range(len(cities))]\n",
    "    messages = [[0] * len(cities) for _ in range(len(cities))]\n",
    "\n",
    "    edges_cost = 0\n",
    "    for _, row in data_set.iterrows():\n",
    "        i1 = city_to_index[row[\"city1\"]]\n",
    "        i2 = city_to_index[row[\"city2\"]]\n",
    "\n",
    "        print((row[\"city1\"], row[\"city2\"]), submission)\n",
    "        if (row[\"city1\"], row[\"city2\"]) in submission or (row[\"city2\"], row[\"city1\"]) in submission:\n",
    "            edges_cost += row[\"cost\"]\n",
    "            distances[i1][i2] = row[\"latency\"]\n",
    "            distances[i2][i1] = row[\"latency\"]\n",
    "\n",
    "        messages[i1][i2] = row[\"messages\"]\n",
    "        messages[i2][i1] = row[\"messages\"]\n",
    "\n",
    "    for j in range(len(cities)):\n",
    "        for i in range(len(cities)):\n",
    "            for k in range(len(cities)):\n",
    "                distances[i][k] = min(distances[i][k], distances[i][j] + distances[j][k])\n",
    "\n",
    "    profit = 0\n",
    "\n",
    "    for i in range(len(cities)):\n",
    "        for j in range(len(cities)):\n",
    "            score_per_message = max(0, max_latency - distances[i][j])\n",
    "            profit += score_per_message * messages[i][j]\n",
    "\n",
    "    profit //= 2\n",
    "\n",
    "    return profit - edges_cost"
   ]
  },
  {
   "cell_type": "markdown",
   "id": "31611d4d-9f22-4ba1-8561-aaa653d6c4e5",
   "metadata": {},
   "source": [
    "# 3. Running your solver"
   ]
  },
  {
   "cell_type": "code",
   "execution_count": 66,
   "id": "ff6909d4-47d7-4df3-a889-f4e1f4d87f3e",
   "metadata": {
    "tags": []
   },
   "outputs": [],
   "source": [
    "SOLVER_NAME = \"all_edges\""
   ]
  },
  {
   "cell_type": "code",
   "execution_count": 67,
   "id": "a24f9af7-af7c-42c9-953d-f1c7310eaec4",
   "metadata": {
    "tags": []
   },
   "outputs": [
    {
     "data": {
      "text/html": [
       "<div>\n",
       "<style scoped>\n",
       "    .dataframe tbody tr th:only-of-type {\n",
       "        vertical-align: middle;\n",
       "    }\n",
       "\n",
       "    .dataframe tbody tr th {\n",
       "        vertical-align: top;\n",
       "    }\n",
       "\n",
       "    .dataframe thead th {\n",
       "        text-align: right;\n",
       "    }\n",
       "</style>\n",
       "<table border=\"1\" class=\"dataframe\">\n",
       "  <thead>\n",
       "    <tr style=\"text-align: right;\">\n",
       "      <th></th>\n",
       "      <th>city1</th>\n",
       "      <th>city2</th>\n",
       "      <th>latency</th>\n",
       "      <th>cost</th>\n",
       "      <th>messages</th>\n",
       "    </tr>\n",
       "  </thead>\n",
       "  <tbody>\n",
       "    <tr>\n",
       "      <th>0</th>\n",
       "      <td>Ankara</td>\n",
       "      <td>Moscow</td>\n",
       "      <td>641</td>\n",
       "      <td>271372</td>\n",
       "      <td>135</td>\n",
       "    </tr>\n",
       "    <tr>\n",
       "      <th>1</th>\n",
       "      <td>Atlanta</td>\n",
       "      <td>PanamaCity</td>\n",
       "      <td>1724</td>\n",
       "      <td>1520655</td>\n",
       "      <td>0</td>\n",
       "    </tr>\n",
       "    <tr>\n",
       "      <th>2</th>\n",
       "      <td>Saskatoon</td>\n",
       "      <td>Yellowknife</td>\n",
       "      <td>831</td>\n",
       "      <td>1099498</td>\n",
       "      <td>102</td>\n",
       "    </tr>\n",
       "    <tr>\n",
       "      <th>3</th>\n",
       "      <td>Gaborone</td>\n",
       "      <td>Luanda</td>\n",
       "      <td>1437</td>\n",
       "      <td>248701</td>\n",
       "      <td>0</td>\n",
       "    </tr>\n",
       "    <tr>\n",
       "      <th>4</th>\n",
       "      <td>Chicago</td>\n",
       "      <td>SaltLakeCity</td>\n",
       "      <td>833</td>\n",
       "      <td>1856242</td>\n",
       "      <td>0</td>\n",
       "    </tr>\n",
       "  </tbody>\n",
       "</table>\n",
       "</div>"
      ],
      "text/plain": [
       "       city1         city2  latency     cost  messages\n",
       "0     Ankara        Moscow      641   271372       135\n",
       "1    Atlanta    PanamaCity     1724  1520655         0\n",
       "2  Saskatoon   Yellowknife      831  1099498       102\n",
       "3   Gaborone        Luanda     1437   248701         0\n",
       "4    Chicago  SaltLakeCity      833  1856242         0"
      ]
     },
     "execution_count": 67,
     "metadata": {},
     "output_type": "execute_result"
    }
   ],
   "source": [
    "solver_data_set = data_set.copy()\n",
    "solver_data_set.head()"
   ]
  },
  {
   "cell_type": "code",
   "execution_count": 68,
   "id": "65e7d9bd-55d0-40a4-a645-7ea40ef35e97",
   "metadata": {
    "tags": []
   },
   "outputs": [
    {
     "data": {
      "text/html": [
       "<div>\n",
       "<style scoped>\n",
       "    .dataframe tbody tr th:only-of-type {\n",
       "        vertical-align: middle;\n",
       "    }\n",
       "\n",
       "    .dataframe tbody tr th {\n",
       "        vertical-align: top;\n",
       "    }\n",
       "\n",
       "    .dataframe thead th {\n",
       "        text-align: right;\n",
       "    }\n",
       "</style>\n",
       "<table border=\"1\" class=\"dataframe\">\n",
       "  <thead>\n",
       "    <tr style=\"text-align: right;\">\n",
       "      <th></th>\n",
       "      <th>city1</th>\n",
       "      <th>city2</th>\n",
       "    </tr>\n",
       "  </thead>\n",
       "  <tbody>\n",
       "    <tr>\n",
       "      <th>0</th>\n",
       "      <td>Ankara</td>\n",
       "      <td>Moscow</td>\n",
       "    </tr>\n",
       "    <tr>\n",
       "      <th>1</th>\n",
       "      <td>Atlanta</td>\n",
       "      <td>PanamaCity</td>\n",
       "    </tr>\n",
       "    <tr>\n",
       "      <th>2</th>\n",
       "      <td>Saskatoon</td>\n",
       "      <td>Yellowknife</td>\n",
       "    </tr>\n",
       "    <tr>\n",
       "      <th>3</th>\n",
       "      <td>Gaborone</td>\n",
       "      <td>Luanda</td>\n",
       "    </tr>\n",
       "    <tr>\n",
       "      <th>4</th>\n",
       "      <td>Chicago</td>\n",
       "      <td>SaltLakeCity</td>\n",
       "    </tr>\n",
       "  </tbody>\n",
       "</table>\n",
       "</div>"
      ],
      "text/plain": [
       "       city1         city2\n",
       "0     Ankara        Moscow\n",
       "1    Atlanta    PanamaCity\n",
       "2  Saskatoon   Yellowknife\n",
       "3   Gaborone        Luanda\n",
       "4    Chicago  SaltLakeCity"
      ]
     },
     "execution_count": 68,
     "metadata": {},
     "output_type": "execute_result"
    }
   ],
   "source": [
    "# this is an example solver that simply picks all edges\n",
    "submission = solver_data_set[\n",
    "    (solver_data_set[\"latency\"] != 0) & (solver_data_set[\"cost\"] != 0)\n",
    "].drop(columns=[\"latency\", \"cost\", \"messages\"])\n",
    "submission.head()"
   ]
  },
  {
   "cell_type": "markdown",
   "id": "e112d11b-594c-42c4-8163-82d059554cc2",
   "metadata": {},
   "source": [
    "# 5. Score your submission"
   ]
  },
  {
   "cell_type": "code",
   "execution_count": 82,
   "id": "ebbfd46e-5529-41e7-b3f4-4ef834796e29",
   "metadata": {
    "tags": []
   },
   "outputs": [
    {
     "name": "stderr",
     "output_type": "stream",
     "text": [
      "IOPub data rate exceeded.\n",
      "The Jupyter server will temporarily stop sending output\n",
      "to the client in order to avoid crashing it.\n",
      "To change this limit, set the config variable\n",
      "`--ServerApp.iopub_data_rate_limit`.\n",
      "\n",
      "Current values:\n",
      "ServerApp.iopub_data_rate_limit=1000000.0 (bytes/sec)\n",
      "ServerApp.rate_limit_window=3.0 (secs)\n",
      "\n"
     ]
    },
    {
     "data": {
      "text/plain": [
       "214000085"
      ]
     },
     "execution_count": 82,
     "metadata": {},
     "output_type": "execute_result"
    }
   ],
   "source": [
    "submission_records = list(map(tuple, submission.to_records(index=False)))\n",
    "score_submission(submission_records)"
   ]
  },
  {
   "cell_type": "markdown",
   "id": "8c1e29bb-cba5-46df-b8b2-0847940f6857",
   "metadata": {},
   "source": [
    "This score should be equal to the score you get when submitting to the tech challenge website."
   ]
  },
  {
   "cell_type": "markdown",
   "id": "56c1d011-1705-42cc-8e51-20015dfdfd07",
   "metadata": {},
   "source": [
    "# 5. Submit your solution"
   ]
  },
  {
   "cell_type": "code",
   "execution_count": 83,
   "id": "6335ec81-03bc-4002-af25-ba7060c104ea",
   "metadata": {
    "tags": []
   },
   "outputs": [],
   "source": [
    "submission.to_csv(f\"{SUBMISSIONS_DIR}/{SOLVER_NAME}.tsv\", sep=\"\\t\", header=False, index=False)"
   ]
  },
  {
   "cell_type": "markdown",
   "id": "4a18dc3f-91e8-4435-9f81-2024f6d25dc6",
   "metadata": {},
   "source": [
    "Now upload the solution from the [solutions](/solutions) folder to the Latency Challenge website."
   ]
  },
  {
   "cell_type": "code",
   "execution_count": null,
   "id": "22329abc-53ed-4849-a3a4-3c977038578b",
   "metadata": {},
   "outputs": [],
   "source": []
  }
 ],
 "metadata": {
  "kernelspec": {
   "display_name": "Python 3 (ipykernel)",
   "language": "python",
   "name": "python3"
  },
  "language_info": {
   "codemirror_mode": {
    "name": "ipython",
    "version": 3
   },
   "file_extension": ".py",
   "mimetype": "text/x-python",
   "name": "python",
   "nbconvert_exporter": "python",
   "pygments_lexer": "ipython3",
   "version": "3.9.12"
  }
 },
 "nbformat": 4,
 "nbformat_minor": 5
}
