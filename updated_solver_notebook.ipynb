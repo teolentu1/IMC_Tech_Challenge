{
 "cells": [
  {
   "cell_type": "code",
   "execution_count": 1,
   "id": "00cd3a57-4064-400a-b906-a26cb4d58543",
   "metadata": {
    "tags": []
   },
   "outputs": [
    {
     "ename": "ModuleNotFoundError",
     "evalue": "No module named 'pandas'",
     "output_type": "error",
     "traceback": [
      "\u001b[0;31m---------------------------------------------------------------------------\u001b[0m",
      "\u001b[0;31mModuleNotFoundError\u001b[0m                       Traceback (most recent call last)",
      "Cell \u001b[0;32mIn[1], line 2\u001b[0m\n\u001b[1;32m      1\u001b[0m \u001b[38;5;28;01mimport\u001b[39;00m \u001b[38;5;21;01mos\u001b[39;00m\n\u001b[0;32m----> 2\u001b[0m \u001b[38;5;28;01mimport\u001b[39;00m \u001b[38;5;21;01mpandas\u001b[39;00m \u001b[38;5;28;01mas\u001b[39;00m \u001b[38;5;21;01mpd\u001b[39;00m\n\u001b[1;32m      3\u001b[0m \u001b[38;5;28;01mimport\u001b[39;00m \u001b[38;5;21;01mrequests\u001b[39;00m\n",
      "\u001b[0;31mModuleNotFoundError\u001b[0m: No module named 'pandas'"
     ]
    }
   ],
   "source": [
    "import os\n",
    "import pandas as pd\n",
    "import requests"
   ]
  },
  {
   "cell_type": "code",
   "execution_count": 6,
   "id": "72ed0843-7d56-40c1-8cdd-32a67f484f16",
   "metadata": {
    "tags": []
   },
   "outputs": [],
   "source": [
    "DATA_DIR = \"data\"\n",
    "SUBMISSIONS_DIR = \"submissions\""
   ]
  },
  {
   "cell_type": "code",
   "execution_count": 30,
   "id": "8baef4a9-f2c7-4cfe-a84a-426b8aff9c2c",
   "metadata": {
    "tags": []
   },
   "outputs": [],
   "source": [
    "assert os.path.isdir(DATA_DIR)\n",
    "assert os.path.isdir(SUBMISSIONS_DIR)"
   ]
  },
  {
   "cell_type": "markdown",
   "id": "72b2107b-c855-4be8-ae1a-1ad98fdc43be",
   "metadata": {},
   "source": [
    "# 1. Loading the input data set"
   ]
  },
  {
   "cell_type": "code",
   "execution_count": 1,
   "id": "4b1c0d41-4539-4744-9f79-d1c12992f678",
   "metadata": {
    "tags": []
   },
   "outputs": [],
   "source": [
    "DATA_SET_NAME = \"dataset.tsv\""
   ]
  },
  {
   "cell_type": "code",
   "execution_count": 5,
   "id": "8e1c89ab-7733-47b9-a0cf-f5beafde0015",
   "metadata": {
    "tags": []
   },
   "outputs": [
    {
     "ename": "NameError",
     "evalue": "name 'pd' is not defined",
     "output_type": "error",
     "traceback": [
      "\u001b[0;31m---------------------------------------------------------------------------\u001b[0m",
      "\u001b[0;31mNameError\u001b[0m                                 Traceback (most recent call last)",
      "Cell \u001b[0;32mIn[5], line 1\u001b[0m\n\u001b[0;32m----> 1\u001b[0m data_set \u001b[38;5;241m=\u001b[39m \u001b[43mpd\u001b[49m\u001b[38;5;241m.\u001b[39mread_csv(\u001b[38;5;124mf\u001b[39m\u001b[38;5;124m\"\u001b[39m\u001b[38;5;132;01m{\u001b[39;00mDATA_DIR\u001b[38;5;132;01m}\u001b[39;00m\u001b[38;5;124m/\u001b[39m\u001b[38;5;132;01m{\u001b[39;00mDATA_SET_NAME\u001b[38;5;132;01m}\u001b[39;00m\u001b[38;5;124m\"\u001b[39m, delimiter\u001b[38;5;241m=\u001b[39m\u001b[38;5;124m\"\u001b[39m\u001b[38;5;130;01m\\t\u001b[39;00m\u001b[38;5;124m\"\u001b[39m, names\u001b[38;5;241m=\u001b[39m[\u001b[38;5;124m\"\u001b[39m\u001b[38;5;124mcity1\u001b[39m\u001b[38;5;124m\"\u001b[39m, \u001b[38;5;124m\"\u001b[39m\u001b[38;5;124mcity2\u001b[39m\u001b[38;5;124m\"\u001b[39m, \u001b[38;5;124m\"\u001b[39m\u001b[38;5;124mlatency\u001b[39m\u001b[38;5;124m\"\u001b[39m, \u001b[38;5;124m\"\u001b[39m\u001b[38;5;124mcost\u001b[39m\u001b[38;5;124m\"\u001b[39m, \u001b[38;5;124m\"\u001b[39m\u001b[38;5;124mmessages\u001b[39m\u001b[38;5;124m\"\u001b[39m])\n\u001b[1;32m      2\u001b[0m data_set\u001b[38;5;241m.\u001b[39mhead()\n",
      "\u001b[0;31mNameError\u001b[0m: name 'pd' is not defined"
     ]
    }
   ],
   "source": [
    "data_set = pd.read_csv(f\"{DATA_DIR}/{DATA_SET_NAME}\", delimiter=\"\\t\", names=[\"city1\", \"city2\", \"latency\", \"cost\", \"messages\"])\n",
    "data_set.head(-1)"
   ]
  },
  {
   "cell_type": "markdown",
   "id": "3f8287a5-ede5-43b5-b770-fe229c0ac815",
   "metadata": {},
   "source": [
    "# 2. Scoring Function\n",
    "\n",
    "This scoring function is ready to use and grades your submission, it returns the same score as what the Latency Challenge website would return. **Note:**, this doesn't actually submit your solution! You can use this as a utility but as long as you don't upload a solution this will not put you on the leaderboard."
   ]
  },
  {
   "cell_type": "code",
   "execution_count": 65,
   "id": "94c1a4fb-81e3-4763-92b9-31dbfefca1c4",
   "metadata": {
    "tags": []
   },
   "outputs": [],
   "source": [
    "def score_submission(submission: set[tuple[str, str]]) -> (float, str):\n",
    "    \"\"\"\n",
    "    This is the scoring function you can use to determine how well your solution is doing\n",
    "    \"\"\"\n",
    "\n",
    "    cities = set(data_set[\"city1\"]) | set(data_set[\"city2\"])\n",
    "    edges_available = set(\n",
    "        tuple(sorted(x))\n",
    "        for _, x in data_set[data_set[\"latency\"] > 0][[\"city1\", \"city2\"]].iterrows()\n",
    "    )\n",
    "    edges_available = set((x, y) if x < y else (y, x) for (x, y) in edges_available)\n",
    "\n",
    "    city_to_index = {city: i for i, city in enumerate(cities)}\n",
    "    max_latency = 10_000\n",
    "    distances = [[10 * max_latency] * len(cities) for _ in range(len(cities))]\n",
    "    messages = [[0] * len(cities) for _ in range(len(cities))]\n",
    "\n",
    "    edges_cost = 0\n",
    "    for _, row in data_set.iterrows():\n",
    "        i1 = city_to_index[row[\"city1\"]]\n",
    "        i2 = city_to_index[row[\"city2\"]]\n",
    "\n",
    "        print((row[\"city1\"], row[\"city2\"]), submission)\n",
    "        if (row[\"city1\"], row[\"city2\"]) in submission or (row[\"city2\"], row[\"city1\"]) in submission:\n",
    "            edges_cost += row[\"cost\"]\n",
    "            distances[i1][i2] = row[\"latency\"]\n",
    "            distances[i2][i1] = row[\"latency\"]\n",
    "\n",
    "        messages[i1][i2] = row[\"messages\"]\n",
    "        messages[i2][i1] = row[\"messages\"]\n",
    "\n",
    "    for j in range(len(cities)):\n",
    "        for i in range(len(cities)):\n",
    "            for k in range(len(cities)):\n",
    "                distances[i][k] = min(distances[i][k], distances[i][j] + distances[j][k])\n",
    "\n",
    "    profit = 0\n",
    "\n",
    "    for i in range(len(cities)):\n",
    "        for j in range(len(cities)):\n",
    "            score_per_message = max(0, max_latency - distances[i][j])\n",
    "            profit += score_per_message * messages[i][j]\n",
    "\n",
    "    profit //= 2\n",
    "\n",
    "    return profit - edges_cost"
   ]
  },
  {
   "cell_type": "markdown",
   "id": "31611d4d-9f22-4ba1-8561-aaa653d6c4e5",
   "metadata": {},
   "source": [
    "# 3. Running your solver"
   ]
  },
  {
   "cell_type": "code",
   "execution_count": 6,
   "id": "ff6909d4-47d7-4df3-a889-f4e1f4d87f3e",
   "metadata": {
    "tags": []
   },
   "outputs": [],
   "source": [
    "SOLVER_NAME = \"all_edges\""
   ]
  },
  {
   "cell_type": "code",
   "execution_count": 11,
   "id": "a24f9af7-af7c-42c9-953d-f1c7310eaec4",
   "metadata": {
    "tags": []
   },
   "outputs": [
    {
     "ename": "NameError",
     "evalue": "name 'data_set' is not defined",
     "output_type": "error",
     "traceback": [
      "\u001b[0;31m---------------------------------------------------------------------------\u001b[0m",
      "\u001b[0;31mNameError\u001b[0m                                 Traceback (most recent call last)",
      "Cell \u001b[0;32mIn[11], line 1\u001b[0m\n\u001b[0;32m----> 1\u001b[0m solver_data_set \u001b[38;5;241m=\u001b[39m \u001b[43mdata_set\u001b[49m\u001b[38;5;241m.\u001b[39mcopy()\n\u001b[1;32m      2\u001b[0m solver_data_set\u001b[38;5;241m.\u001b[39mhead()\n",
      "\u001b[0;31mNameError\u001b[0m: name 'data_set' is not defined"
     ]
    }
   ],
   "source": [
    "solver_data_set = data_set.copy()\n",
    "solver_data_set.head()"
   ]
  },
  {
   "cell_type": "code",
   "execution_count": 12,
   "id": "65e7d9bd-55d0-40a4-a645-7ea40ef35e97",
   "metadata": {
    "tags": []
   },
   "outputs": [
    {
     "ename": "NameError",
     "evalue": "name 'solver_data_set' is not defined",
     "output_type": "error",
     "traceback": [
      "\u001b[0;31m---------------------------------------------------------------------------\u001b[0m",
      "\u001b[0;31mNameError\u001b[0m                                 Traceback (most recent call last)",
      "Cell \u001b[0;32mIn[12], line 2\u001b[0m\n\u001b[1;32m      1\u001b[0m \u001b[38;5;66;03m# this is an example solver that simply picks all edges\u001b[39;00m\n\u001b[0;32m----> 2\u001b[0m submission \u001b[38;5;241m=\u001b[39m \u001b[43msolver_data_set\u001b[49m[\n\u001b[1;32m      3\u001b[0m     (solver_data_set[\u001b[38;5;124m\"\u001b[39m\u001b[38;5;124mlatency\u001b[39m\u001b[38;5;124m\"\u001b[39m] \u001b[38;5;241m!=\u001b[39m \u001b[38;5;241m0\u001b[39m) \u001b[38;5;241m&\u001b[39m (solver_data_set[\u001b[38;5;124m\"\u001b[39m\u001b[38;5;124mcost\u001b[39m\u001b[38;5;124m\"\u001b[39m] \u001b[38;5;241m!=\u001b[39m \u001b[38;5;241m0\u001b[39m)\n\u001b[1;32m      4\u001b[0m ]\u001b[38;5;241m.\u001b[39mdrop(columns\u001b[38;5;241m=\u001b[39m[\u001b[38;5;124m\"\u001b[39m\u001b[38;5;124mlatency\u001b[39m\u001b[38;5;124m\"\u001b[39m, \u001b[38;5;124m\"\u001b[39m\u001b[38;5;124mcost\u001b[39m\u001b[38;5;124m\"\u001b[39m, \u001b[38;5;124m\"\u001b[39m\u001b[38;5;124mmessages\u001b[39m\u001b[38;5;124m\"\u001b[39m])\n\u001b[1;32m      5\u001b[0m submission\u001b[38;5;241m.\u001b[39mhead()\n\u001b[1;32m      7\u001b[0m \u001b[38;5;28;01mdef\u001b[39;00m\u001b[38;5;250m \u001b[39m\u001b[38;5;21mfind\u001b[39m(parent, x):\n",
      "\u001b[0;31mNameError\u001b[0m: name 'solver_data_set' is not defined"
     ]
    }
   ],
   "source": [
    "# this is an example solver that simply picks all edges\n",
    "submission = solver_data_set[\n",
    "    (solver_data_set[\"latency\"] != 0) & (solver_data_set[\"cost\"] != 0)\n",
    "].drop(columns=[\"latency\", \"cost\", \"messages\"])\n",
    "submission.head()\n",
    "\n",
    "def find(parent, x):\n",
    "    if parent[x] != x:\n",
    "        parent[x] = find(parent, parent[x])  # Path compression\n",
    "    return parent[x]\n",
    "\n",
    "def union(parent, rank, x, y):\n",
    "    root_x = find(parent, x)\n",
    "    root_y = find(parent, y)\n",
    "    if root_x != root_y:\n",
    "        if rank[root_x] > rank[root_y]:\n",
    "            parent[root_y] = root_x\n",
    "        elif rank[root_x] < rank[root_y]:\n",
    "            parent[root_x] = root_y\n",
    "        else:\n",
    "            parent[root_y] = root_x\n",
    "            rank[root_x] += 1\n",
    "\n",
    "# 2. Generate MST (Kruskal's Algorithm)\n",
    "def generate_mst(data):\n",
    "    edges = [\n",
    "        (row[\"cost\"], row[\"latency\"], row[\"city1\"], row[\"city2\"])\n",
    "        for _, row in data.iterrows()\n",
    "        if row[\"cost\"] > 0 and row[\"latency\"] > 0\n",
    "    ]\n",
    "    \n",
    "    edges.sort()  # Sort by cost\n",
    "    \n",
    "    cities = set(data[\"city1\"]).union(set(data[\"city2\"]))\n",
    "    parent = {city: city for city in cities}\n",
    "    rank = {city: 0 for city in cities}\n",
    "\n",
    "    mst = []\n",
    "    for cost, latency, city1, city2 in edges:\n",
    "        if find(parent, city1) != find(parent, city2):\n",
    "            union(parent, rank, city1, city2)\n",
    "            mst.append((city1, city2))\n",
    "\n",
    "    return mst\n",
    "\n",
    "# 3. Additional Edge Selection (Optional)\n",
    "def add_additional_edges(data, mst):\n",
    "    mst_set = set(mst)\n",
    "    additional_edges = []\n",
    "\n",
    "    for _, row in data.iterrows():\n",
    "        edge = (row[\"city1\"], row[\"city2\"])\n",
    "        if edge not in mst_set and edge[::-1] not in mst_set:\n",
    "            # Add edges with high latency-to-cost ratio\n",
    "            ratio = (row[\"messages\"] * max(0, 10_000 - row[\"latency\"])) / row[\"cost\"] if row[\"cost\"] > 0 else 0\n",
    "            if ratio > 1:  # Threshold to ensure cost-effectiveness\n",
    "                additional_edges.append(edge)\n",
    "\n",
    "    return additional_edges"
   ]
  },
  {
   "cell_type": "markdown",
   "id": "e112d11b-594c-42c4-8163-82d059554cc2",
   "metadata": {},
   "source": [
    "# 5. Score your submission"
   ]
  },
  {
   "cell_type": "code",
   "execution_count": 82,
   "id": "ebbfd46e-5529-41e7-b3f4-4ef834796e29",
   "metadata": {
    "tags": []
   },
   "outputs": [
    {
     "name": "stderr",
     "output_type": "stream",
     "text": [
      "IOPub data rate exceeded.\n",
      "The Jupyter server will temporarily stop sending output\n",
      "to the client in order to avoid crashing it.\n",
      "To change this limit, set the config variable\n",
      "`--ServerApp.iopub_data_rate_limit`.\n",
      "\n",
      "Current values:\n",
      "ServerApp.iopub_data_rate_limit=1000000.0 (bytes/sec)\n",
      "ServerApp.rate_limit_window=3.0 (secs)\n",
      "\n"
     ]
    },
    {
     "data": {
      "text/plain": [
       "214000085"
      ]
     },
     "execution_count": 82,
     "metadata": {},
     "output_type": "execute_result"
    }
   ],
   "source": [
    "submission_records = list(map(tuple, submission.to_records(index=False)))\n",
    "score_submission(submission_records)"
   ]
  },
  {
   "cell_type": "markdown",
   "id": "8c1e29bb-cba5-46df-b8b2-0847940f6857",
   "metadata": {},
   "source": [
    "This score should be equal to the score you get when submitting to the tech challenge website."
   ]
  },
  {
   "cell_type": "markdown",
   "id": "56c1d011-1705-42cc-8e51-20015dfdfd07",
   "metadata": {},
   "source": [
    "# 5. Submit your solution"
   ]
  },
  {
   "cell_type": "code",
   "execution_count": 83,
   "id": "6335ec81-03bc-4002-af25-ba7060c104ea",
   "metadata": {
    "tags": []
   },
   "outputs": [],
   "source": [
    "submission.to_csv(f\"{SUBMISSIONS_DIR}/{SOLVER_NAME}.tsv\", sep=\"\\t\", header=False, index=False)"
   ]
  },
  {
   "cell_type": "markdown",
   "id": "4a18dc3f-91e8-4435-9f81-2024f6d25dc6",
   "metadata": {},
   "source": [
    "Now upload the solution from the [solutions](/solutions) folder to the Latency Challenge website."
   ]
  },
  {
   "cell_type": "code",
   "execution_count": null,
   "id": "22329abc-53ed-4849-a3a4-3c977038578b",
   "metadata": {},
   "outputs": [],
   "source": []
  },
  {
   "cell_type": "markdown",
   "id": "181bb851",
   "metadata": {},
   "source": [
    "### Optimized Solver\n",
    "The following code implements an optimized solver to select the best connections for maximum profit."
   ]
  },
  {
   "cell_type": "code",
   "execution_count": null,
   "id": "398cc512",
   "metadata": {},
   "outputs": [],
   "source": [
    "\n",
    "import heapq\n",
    "\n",
    "def calculate_profit(latency, messages, max_latency=10000):\n",
    "    \"\"\"\n",
    "    Calculate profit for a given latency and number of messages.\n",
    "    \"\"\"\n",
    "    return max(0, max_latency - latency) * messages\n",
    "\n",
    "def optimize_connections(data_set):\n",
    "    \"\"\"\n",
    "    Optimize connections to maximize profit while minimizing costs.\n",
    "    \"\"\"\n",
    "    # Extract unique cities\n",
    "    cities = set(data_set[\"city1\"]) | set(data_set[\"city2\"])\n",
    "    city_to_index = {city: i for i, city in enumerate(cities)}\n",
    "\n",
    "    # Create a priority queue for edges with profit-to-cost ratio\n",
    "    edges = []\n",
    "    for _, row in data_set.iterrows():\n",
    "        if row[\"latency\"] > 0 and row[\"cost\"] > 0:\n",
    "            profit = calculate_profit(row[\"latency\"], row[\"messages\"])\n",
    "            heapq.heappush(edges, (-profit / row[\"cost\"], profit, row[\"cost\"], row[\"city1\"], row[\"city2\"]))\n",
    "\n",
    "    # Kruskal's algorithm setup\n",
    "    parent = {city: city for city in cities}\n",
    "\n",
    "    def find(city):\n",
    "        if parent[city] != city:\n",
    "            parent[city] = find(parent[city])\n",
    "        return parent[city]\n",
    "\n",
    "    def union(city1, city2):\n",
    "        root1 = find(city1)\n",
    "        root2 = find(city2)\n",
    "        if root1 != root2:\n",
    "            parent[root2] = root1\n",
    "\n",
    "    # Select edges to lease\n",
    "    leased_edges = set()\n",
    "    total_cost = 0\n",
    "\n",
    "    while edges:\n",
    "        _, profit, cost, city1, city2 = heapq.heappop(edges)\n",
    "        if find(city1) != find(city2):\n",
    "            leased_edges.add((city1, city2))\n",
    "            union(city1, city2)\n",
    "            total_cost += cost\n",
    "\n",
    "    return leased_edges, total_cost\n"
   ]
  },
  {
   "cell_type": "markdown",
   "id": "fe0e89a0",
   "metadata": {},
   "source": [
    "### Running the Optimized Solver\n",
    "This cell runs the optimized solver and outputs the leased edges to a file."
   ]
  },
  {
   "cell_type": "code",
   "execution_count": null,
   "id": "d7c3db58",
   "metadata": {},
   "outputs": [],
   "source": [
    "\n",
    "leased_edges, total_cost = optimize_connections(data_set)\n",
    "\n",
    "# Output the leased edges as a TSV file\n",
    "submission_file = f\"{SUBMISSIONS_DIR}/optimized_submission.tsv\"\n",
    "with open(submission_file, \"w\") as f:\n",
    "    f.write(\"city1\\tcity2\\n\")  # Add header\n",
    "    for city1, city2 in leased_edges:\n",
    "        f.write(f\"{city1}\\t{city2}\\n\")\n",
    "\n",
    "print(f\"Submission saved to {submission_file}\")"
   ]
  }
 ],
 "metadata": {
  "kernelspec": {
   "display_name": "Python 3 (ipykernel)",
   "language": "python",
   "name": "python3"
  },
  "language_info": {
   "codemirror_mode": {
    "name": "ipython",
    "version": 3
   },
   "file_extension": ".py",
   "mimetype": "text/x-python",
   "name": "python",
   "nbconvert_exporter": "python",
   "pygments_lexer": "ipython3",
   "version": "3.13.1"
  }
 },
 "nbformat": 4,
 "nbformat_minor": 5
}
